{
 "cells": [
  {
   "cell_type": "markdown",
   "metadata": {},
   "source": [
    "<img src=\"https://bit.ly/2VnXWr2\" width=\"100\" align=\"left\">"
   ]
  },
  {
   "cell_type": "markdown",
   "metadata": {},
   "source": [
    "# Bus\n",
    "\n",
    "This bus has a passenger entry and exit control system to monitor the number of occupants it carries and thus detect when there are too many.\n",
    "\n",
    "At each stop, the entry and exit of passengers is represented by a tuple consisting of two integer numbers.\n",
    "```\n",
    "bus_stop = (in, out)\n",
    "```\n",
    "The succession of stops is represented by a list of these tuples.\n",
    "```\n",
    "stops = [(in1, out1), (in2, out2), (in3, out3), (in4, out4)]\n",
    "```\n",
    "\n",
    "## Tools\n",
    "You don't necessarily need to use all the tools. Maybe you opt to use some of them or completely different ones, they are given to help you shape the exercise. Programming exercises can be solved in many different ways.\n",
    "* Data structures: **lists, tuples**\n",
    "* Loop: **while/for loops**\n",
    "* Functions: **min, max, len**\n",
    "\n",
    "## Tasks"
   ]
  },
  {
   "cell_type": "code",
   "execution_count": 5,
   "metadata": {},
   "outputs": [],
   "source": [
    "# Variables\n",
    "stops = [(10, 0), (4, 1), (3, 5), (3, 4), (5, 1), (1, 5), (5, 8), (4, 6), (2, 3)]"
   ]
  },
  {
   "cell_type": "markdown",
   "metadata": {},
   "source": [
    "#### 1. Calculate the number of stops."
   ]
  },
  {
   "cell_type": "code",
   "execution_count": 6,
   "metadata": {
    "scrolled": false
   },
   "outputs": [
    {
     "name": "stdout",
     "output_type": "stream",
     "text": [
      "9\n"
     ]
    }
   ],
   "source": [
    "print(len(stops))"
   ]
  },
  {
   "cell_type": "markdown",
   "metadata": {},
   "source": [
    "#### 2. Assign to a variable a list whose elements are the number of passengers at each stop (in-out).\n",
    "Each item depends on the previous item in the list + in - out."
   ]
  },
  {
   "cell_type": "code",
   "execution_count": 39,
   "metadata": {
    "scrolled": true
   },
   "outputs": [
    {
     "name": "stdout",
     "output_type": "stream",
     "text": [
      "[10, 4, 3, 3, 5, 1, 5, 4, 2]\n",
      "[0, 1, 5, 4, 1, 5, 8, 6, 3]\n",
      "[10, 3, -2, -1, 4, -4, -3, -2, -1]\n",
      "[0, 10, 3, -2, -1, 4, -4, -3, -2, -1]\n",
      "10\n",
      "13\n",
      "11\n",
      "10\n",
      "14\n",
      "10\n",
      "7\n",
      "5\n",
      "4\n"
     ]
    }
   ],
   "source": [
    "stops = [(10, 0), (4, 1), (3, 5), (3, 4), (5, 1), (1, 5), (5, 8), (4, 6), (2, 3)]\n",
    "ins = [i[0]for i in stops]\n",
    "outs = [i[1]for i in stops]\n",
    "print(ins)\n",
    "print(outs)\n",
    "\n",
    "difference_ins_outs = [ ins[n] - outs[n] for n in range(0, len(ins)) ]\n",
    "print(difference_ins_outs)\n",
    "\n",
    "difference_ins_outs.insert(0, 0)\n",
    "print(difference_ins_outs)\n",
    "\n",
    "stop1 = difference_ins_outs[0]+difference_ins_outs[1]\n",
    "print(stop1)\n",
    "stop2 = stop1 +difference_ins_outs[2]\n",
    "print(stop2)\n",
    "stop3 = stop2 +difference_ins_outs[3]\n",
    "print(stop3)\n",
    "stop4 = stop3 +difference_ins_outs[4]\n",
    "print(stop4)\n",
    "stop5 = stop4 +difference_ins_outs[5]\n",
    "print(stop5)\n",
    "stop6 = stop5 +difference_ins_outs[6]\n",
    "print(stop6)\n",
    "stop7 = stop6 +difference_ins_outs[7]\n",
    "print(stop7)\n",
    "stop8 = stop7 +difference_ins_outs[8]\n",
    "print(stop8)\n",
    "stop9 = stop8 +difference_ins_outs[9]\n",
    "print(stop9)"
   ]
  },
  {
   "cell_type": "markdown",
   "metadata": {},
   "source": [
    "#### 3. Find the maximum occupation of the bus."
   ]
  },
  {
   "cell_type": "code",
   "execution_count": null,
   "metadata": {},
   "outputs": [],
   "source": [
    "print \"Maximum occupation of the bus: \", max(all_stops)"
   ]
  },
  {
   "cell_type": "markdown",
   "metadata": {},
   "source": [
    "#### 4. Calculate the average occupation. And the standard deviation."
   ]
  },
  {
   "cell_type": "code",
   "execution_count": null,
   "metadata": {},
   "outputs": [],
   "source": [
    "def average(all_stops)\n",
    "    return mean(all_stops)\n",
    "    print ('The average occupation is:', average)\n",
    "\n",
    "stand_dev = ???\n",
    "print ('The standard deviation is:',)"
   ]
  }
 ],
 "metadata": {
  "kernelspec": {
   "display_name": "Python 3",
   "language": "python",
   "name": "python3"
  },
  "language_info": {
   "codemirror_mode": {
    "name": "ipython",
    "version": 3
   },
   "file_extension": ".py",
   "mimetype": "text/x-python",
   "name": "python",
   "nbconvert_exporter": "python",
   "pygments_lexer": "ipython3",
   "version": "3.7.3"
  }
 },
 "nbformat": 4,
 "nbformat_minor": 2
}
