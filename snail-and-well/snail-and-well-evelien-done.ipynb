{
 "cells": [
  {
   "cell_type": "markdown",
   "metadata": {},
   "source": [
    "<img src=\"https://bit.ly/2VnXWr2\" width=\"100\" align=\"left\">"
   ]
  },
  {
   "cell_type": "markdown",
   "metadata": {},
   "source": [
    "# The Snail and the Well\n",
    "\n",
    "A snail falls at the bottom of a 125 cm well. Each day the snail rises 30 cm. But at night, while sleeping, slides 20 cm because the walls are wet. How many days does it take for the snail to escape the well?\n",
    "\n",
    "**Hint**: The snail gets out of the well when it surpasses the 125cm of height.\n",
    "\n",
    "## Tools\n",
    "\n",
    "1. Loop: **while**\n",
    "2. Conditional statements: **if-else**\n",
    "3. Function: **print()**\n",
    "\n",
    "## Tasks\n",
    "\n",
    "#### 1. Assign the challenge data to variables with representative names: `well_height`, `daily_distance`, `nightly_distance` and `snail_position`."
   ]
  },
  {
   "cell_type": "code",
   "execution_count": null,
   "metadata": {},
   "outputs": [],
   "source": [
    "w = 125\n",
    "daily_advance = 30\n",
    "night_retreat = -20\n",
    "a = daily_advance + night_retreat\n",
    "\n",
    "day = 0\n",
    "extra_day = 1\n"
   ]
  },
  {
   "cell_type": "markdown",
   "metadata": {},
   "source": [
    "#### 2. Create a variable `days` to keep count of the days that pass until the snail escapes the well. "
   ]
  },
  {
   "cell_type": "code",
   "execution_count": 3,
   "metadata": {},
   "outputs": [
    {
     "name": "stdout",
     "output_type": "stream",
     "text": [
      "125 cm left to escape\n",
      "1 days needed to escape\n",
      "115 cm left to escape\n",
      "2 days needed to escape\n",
      "105 cm left to escape\n",
      "3 days needed to escape\n",
      "95 cm left to escape\n",
      "4 days needed to escape\n",
      "85 cm left to escape\n",
      "5 days needed to escape\n",
      "75 cm left to escape\n",
      "6 days needed to escape\n",
      "65 cm left to escape\n",
      "7 days needed to escape\n",
      "55 cm left to escape\n",
      "8 days needed to escape\n",
      "45 cm left to escape\n",
      "9 days needed to escape\n",
      "35 cm left to escape\n",
      "10 days needed to escape\n",
      "25 cm left to escape\n",
      "11 days needed to escape\n",
      "15 cm left to escape\n",
      "12 days needed to escape\n",
      "escaped\n"
     ]
    }
   ],
   "source": [
    "w = 125\n",
    "daily_advance = 30\n",
    "night_retreat = -20\n",
    "a = daily_advance + night_retreat\n",
    "\n",
    "day = 0\n",
    "extra_day = 1\n",
    "\n",
    "\n",
    "while w >= 9:\n",
    "    print( w,'cm left to escape')\n",
    "    w = w - a\n",
    "    \n",
    "    day = day + extra_day\n",
    "    print ( day, 'days needed to escape')\n",
    "else:\n",
    "    print('escaped')\n"
   ]
  },
  {
   "cell_type": "markdown",
   "metadata": {},
   "source": [
    "#### 3. Find the solution to the challenge using the variables defined above. "
   ]
  },
  {
   "cell_type": "code",
   "execution_count": 6,
   "metadata": {
    "scrolled": true
   },
   "outputs": [],
   "source": [
    "w = 125\n",
    "daily_advance = 30\n",
    "night_retreat = -20\n",
    "a = daily_advance + night_retreat\n",
    "\n",
    "days_to_escape = int(w) / int(a)"
   ]
  },
  {
   "cell_type": "markdown",
   "metadata": {},
   "source": [
    "#### 4. Print the solution."
   ]
  },
  {
   "cell_type": "code",
   "execution_count": 7,
   "metadata": {},
   "outputs": [
    {
     "name": "stdout",
     "output_type": "stream",
     "text": [
      "It took 12.5 days for the snake to escape\n"
     ]
    }
   ],
   "source": [
    "w = 125\n",
    "daily_advance = 30\n",
    "night_retreat = -20\n",
    "a = daily_advance + night_retreat\n",
    "\n",
    "days_to_escape = int(w) / int(a)\n",
    "\n",
    "print('It took', days_to_escape, 'days for the snake to escape')"
   ]
  },
  {
   "cell_type": "markdown",
   "metadata": {},
   "source": [
    "## Bonus\n",
    "The distance traveled by the snail each day is now defined by a list.\n",
    "```\n",
    "advance_cm = [30, 21, 33, 77, 44, 45, 23, 45, 12, 34, 55]\n",
    "```\n",
    "On the first day, the snail rises 30cm but during the night it slides 20cm. On the second day, the snail rises 21cm but during the night it slides 20cm, and so on. \n",
    "\n",
    "#### 1. How many days does it take for the snail to escape the well?\n",
    "Follow the same guidelines as in the previous challenge.\n",
    "\n",
    "**Hint**: Remember that the snail gets out of the well when it surpasses the 125cm of height."
   ]
  },
  {
   "cell_type": "code",
   "execution_count": 8,
   "metadata": {},
   "outputs": [
    {
     "name": "stdout",
     "output_type": "stream",
     "text": [
      "it takes 0 days to escape\n",
      "it takes 1 days to escape\n",
      "it takes 2 days to escape\n",
      "it takes 3 days to escape\n",
      "it takes 4 days to escape\n",
      "it takes 5 days to escape\n",
      "it takes 6 days to escape\n",
      "it takes 7 days to escape\n",
      "it takes 8 days to escape\n",
      "it takes 9 days to escape\n",
      "it takes 10 days to escape\n"
     ]
    }
   ],
   "source": [
    "w = 125\n",
    "daily_advance = [30, 21, 33, 77, 44, 45, 23, 45, 12, 34, 55]\n",
    "night_retreat = -20\n",
    "\n",
    "for i in range(len(daily_advance)):\n",
    "    daily_advance[i] -= night_retreat\n",
    "    print('it takes', i, 'days to escape')\n"
   ]
  },
  {
   "cell_type": "markdown",
   "metadata": {},
   "source": [
    "#### 2. What is its maximum displacement in one day? And its minimum? Calculate the displacement using only the travel distance of the days used to get out of the well. \n",
    "**Hint**: Remember that displacement means the total distance risen taking into account that the snail slides at night.  "
   ]
  },
  {
   "cell_type": "code",
   "execution_count": 12,
   "metadata": {},
   "outputs": [
    {
     "name": "stdout",
     "output_type": "stream",
     "text": [
      "maximal value  57\n",
      "minimal value  -8\n",
      "average value  18.090909090909093\n"
     ]
    }
   ],
   "source": [
    "daily_advance = [30, 21, 33, 77, 44, 45, 23, 45, 12, 34, 55]\n",
    "night_retreat = -20\n",
    "\n",
    "max_value = max(daily_advance) + night_retreat\n",
    "min_value = min(daily_advance) + night_retreat\n",
    "\n",
    "\n",
    "print(\"maximal value \", max_value)\n",
    "print(\"minimal value \", min_value)\n",
    "\n"
   ]
  },
  {
   "cell_type": "markdown",
   "metadata": {},
   "source": [
    "#### 3. What is its average progress? Take into account the snail slides at night."
   ]
  },
  {
   "cell_type": "code",
   "execution_count": 14,
   "metadata": {},
   "outputs": [
    {
     "name": "stdout",
     "output_type": "stream",
     "text": [
      "average value  18.090909090909093\n"
     ]
    }
   ],
   "source": [
    "\n",
    "daily_advance = [30, 21, 33, 77, 44, 45, 23, 45, 12, 34, 55]\n",
    "night_retreat = -20\n",
    "\n",
    "\n",
    "avg_value = (sum(daily_advance)/len(daily_advance))+ night_retreat\n",
    "\n",
    "\n",
    "print(\"average value \", avg_value)"
   ]
  },
  {
   "cell_type": "markdown",
   "metadata": {},
   "source": [
    "#### 4. What is the standard deviation of its displacement? Take into account the snail slides at night."
   ]
  },
  {
   "cell_type": "code",
   "execution_count": 22,
   "metadata": {},
   "outputs": [
    {
     "name": "stdout",
     "output_type": "stream",
     "text": [
      "[10, 1, 13, 57, 24, 25, 3, 25, -8, 14, 35]\n"
     ]
    },
    {
     "data": {
      "text/plain": [
       "17.996969441850734"
      ]
     },
     "execution_count": 22,
     "metadata": {},
     "output_type": "execute_result"
    }
   ],
   "source": [
    "daily_advance = [30, 21, 33, 77, 44, 45, 23, 45, 12, 34, 55]\n",
    "night_retreat = -20\n",
    "average_value = 18.090909090909093\n",
    "\n",
    "advance = [i-20 for i in daily_advance]\n",
    "print(advance)\n",
    "\n",
    "\n",
    "import statistics\n",
    "statistics.stdev(advance)"
   ]
  },
  {
   "cell_type": "code",
   "execution_count": null,
   "metadata": {},
   "outputs": [],
   "source": []
  }
 ],
 "metadata": {
  "kernelspec": {
   "display_name": "Python 3",
   "language": "python",
   "name": "python3"
  },
  "language_info": {
   "codemirror_mode": {
    "name": "ipython",
    "version": 3
   },
   "file_extension": ".py",
   "mimetype": "text/x-python",
   "name": "python",
   "nbconvert_exporter": "python",
   "pygments_lexer": "ipython3",
   "version": "3.7.3"
  }
 },
 "nbformat": 4,
 "nbformat_minor": 2
}
